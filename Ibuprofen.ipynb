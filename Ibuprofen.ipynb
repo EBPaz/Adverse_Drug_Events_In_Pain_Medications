{
 "cells": [
  {
   "cell_type": "markdown",
   "id": "ac2b173d",
   "metadata": {},
   "source": [
    "**The purpose of this notebook is to get data from FDA API and make it managable**\n",
    "\n",
    "https://open.fda.gov/apis/query-syntax/"
   ]
  },
  {
   "cell_type": "code",
   "execution_count": 5,
   "id": "cee659bd",
   "metadata": {},
   "outputs": [],
   "source": [
    "# Dependencies\n",
    "import json\n",
    "import requests"
   ]
  },
  {
   "cell_type": "code",
   "execution_count": 21,
   "id": "951798af",
   "metadata": {},
   "outputs": [
    {
     "data": {
      "text/plain": [
       "{'error': {'code': 'SERVER_ERROR',\n",
       "  'message': 'Check your request and try again',\n",
       "  'details': 'Request Timeout after 30000ms'}}"
      ]
     },
     "execution_count": 21,
     "metadata": {},
     "output_type": "execute_result"
    }
   ],
   "source": [
    "# query_url = \"https://api.fda.gov/drug/event.json?search=receivedate:[20230101+TO+20230331]+AND+patient.drug.openfda.generic_name:%22ibuprofen%22&limit=1\"\n",
    "\n",
    "query_url = \"https://api.fda.gov/drug/event.json?search=receivedate:[20230101+TO+20230331]+AND+[1+TO+50]+AND+patient.drug.openfda.generic_name:%22ibuprofen%22&limit=50\"\n",
    "\n",
    "\n",
    "ibuprofen_response = requests.get(query_url)\n",
    "ibuprofen_json = ibuprofen_response.json()\n",
    "ibuprofen_json"
   ]
  }
 ],
 "metadata": {
  "kernelspec": {
   "display_name": "Python 3 (ipykernel)",
   "language": "python",
   "name": "python3"
  },
  "language_info": {
   "codemirror_mode": {
    "name": "ipython",
    "version": 3
   },
   "file_extension": ".py",
   "mimetype": "text/x-python",
   "name": "python",
   "nbconvert_exporter": "python",
   "pygments_lexer": "ipython3",
   "version": "3.10.11"
  }
 },
 "nbformat": 4,
 "nbformat_minor": 5
}
