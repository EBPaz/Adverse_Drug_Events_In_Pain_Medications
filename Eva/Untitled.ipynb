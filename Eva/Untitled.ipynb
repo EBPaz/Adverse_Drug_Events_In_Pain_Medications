{
 "cells": [
  {
   "cell_type": "code",
   "execution_count": 5,
   "id": "6170e19c",
   "metadata": {},
   "outputs": [],
   "source": [
    "import pandas as pd\n",
    "import requests\n",
    "import json\n"
   ]
  },
  {
   "cell_type": "code",
   "execution_count": 14,
   "id": "0d39087b",
   "metadata": {},
   "outputs": [
    {
     "data": {
      "text/html": [
       "<div>\n",
       "<style scoped>\n",
       "    .dataframe tbody tr th:only-of-type {\n",
       "        vertical-align: middle;\n",
       "    }\n",
       "\n",
       "    .dataframe tbody tr th {\n",
       "        vertical-align: top;\n",
       "    }\n",
       "\n",
       "    .dataframe thead th {\n",
       "        text-align: right;\n",
       "    }\n",
       "</style>\n",
       "<table border=\"1\" class=\"dataframe\">\n",
       "  <thead>\n",
       "    <tr style=\"text-align: right;\">\n",
       "      <th></th>\n",
       "      <th>date</th>\n",
       "      <th>country</th>\n",
       "      <th>sex</th>\n",
       "      <th>seriousness</th>\n",
       "      <th>reaction</th>\n",
       "      <th>company</th>\n",
       "    </tr>\n",
       "  </thead>\n",
       "  <tbody>\n",
       "    <tr>\n",
       "      <th>0</th>\n",
       "      <td>20230102</td>\n",
       "      <td>US</td>\n",
       "      <td>2</td>\n",
       "      <td>2</td>\n",
       "      <td>Asthenia</td>\n",
       "      <td>US-ABBVIE-4255203</td>\n",
       "    </tr>\n",
       "    <tr>\n",
       "      <th>1</th>\n",
       "      <td>20230102</td>\n",
       "      <td>US</td>\n",
       "      <td>2</td>\n",
       "      <td>1</td>\n",
       "      <td>Surgery</td>\n",
       "      <td>US-AMGEN-USASP2022225855</td>\n",
       "    </tr>\n",
       "  </tbody>\n",
       "</table>\n",
       "</div>"
      ],
      "text/plain": [
       "       date country sex seriousness  reaction                   company\n",
       "0  20230102      US   2           2  Asthenia         US-ABBVIE-4255203\n",
       "1  20230102      US   2           1   Surgery  US-AMGEN-USASP2022225855"
      ]
     },
     "execution_count": 14,
     "metadata": {},
     "output_type": "execute_result"
    }
   ],
   "source": [
    "url = \"https://api.fda.gov/drug/event.json?search=receivedate:[20230101+TO+20230331]+AND+patient.drug.openfda.generic_name:hydrocodone&limit=1\"\n",
    "\n",
    "hydrocodone_data = []\n",
    "\n",
    "for i in range(2):\n",
    "    skip_url = url+\"&skip=\"+str(i)\n",
    "    \n",
    "    drug_events = requests.get(skip_url).json()\n",
    "    results = drug_events[\"results\"]\n",
    "    date = results[0][\"receivedate\"]\n",
    "    country = results[0][\"primarysourcecountry\"]\n",
    "    sex = results[0][\"patient\"][\"patientsex\"]\n",
    "    seriousness = results[0][\"serious\"]\n",
    "    reaction = results[0][\"patient\"][\"reaction\"][0][\"reactionmeddrapt\"]\n",
    "    company = results[0][\"patient\"][\"drug\"][0][\"openfda\"][\"manufacturer_name\"]\n",
    "\n",
    "\n",
    "    hydrocodone_data.append({\"date\": date,\n",
    "                        \"country\": country,\n",
    "                        \"sex\": sex,\n",
    "                        \"seriousness\": seriousness,\n",
    "                        \"reaction\": reaction,\n",
    "                        \"company\": company,\n",
    "                        })\n",
    "\n",
    "hydrocodone_df = pd.DataFrame(hydrocodone_data)\n",
    "hydrocodone_df.head()"
   ]
  },
  {
   "cell_type": "code",
   "execution_count": null,
   "id": "470fad71",
   "metadata": {},
   "outputs": [],
   "source": []
  },
  {
   "cell_type": "code",
   "execution_count": null,
   "id": "e6d6240c",
   "metadata": {},
   "outputs": [],
   "source": []
  }
 ],
 "metadata": {
  "kernelspec": {
   "display_name": "Python 3 (ipykernel)",
   "language": "python",
   "name": "python3"
  },
  "language_info": {
   "codemirror_mode": {
    "name": "ipython",
    "version": 3
   },
   "file_extension": ".py",
   "mimetype": "text/x-python",
   "name": "python",
   "nbconvert_exporter": "python",
   "pygments_lexer": "ipython3",
   "version": "3.10.11"
  }
 },
 "nbformat": 4,
 "nbformat_minor": 5
}
